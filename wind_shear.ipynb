{
 "cells": [
  {
   "cell_type": "code",
   "execution_count": null,
   "metadata": {},
   "outputs": [],
   "source": [
    "import intake\n",
    "import iris\n",
    "import geoviews as gv\n",
    "import cartopy.crs as ccrs\n",
    "import cartopy.feature as cf\n",
    "\n",
    "from holoviews.operation.datashader import regrid\n",
    "\n",
    "gv.extension('bokeh')"
   ]
  },
  {
   "cell_type": "markdown",
   "metadata": {},
   "source": [
    "Guidence on wind shear for aviation\n",
    "===================================\n",
    "We're expecting high shear conditions over the UK this week. This analysis will identify risk regions and issue shear warning accoringly."
   ]
  },
  {
   "cell_type": "markdown",
   "metadata": {},
   "source": [
    "### Calcualte shear in the Mogreps G runs\n",
    "I'm doing to pull in data from the Met Office global ensemble forcast, Mogreps G"
   ]
  },
  {
   "cell_type": "code",
   "execution_count": null,
   "metadata": {},
   "outputs": [],
   "source": [
    "intake.gui"
   ]
  },
  {
   "cell_type": "markdown",
   "metadata": {},
   "source": [
    "I'm going to calculate shear on pressure levels for Mogreps G."
   ]
  },
  {
   "cell_type": "code",
   "execution_count": null,
   "metadata": {},
   "outputs": [],
   "source": [
    "from dask.distributed import Client, LocalCluster\n",
    "cluster = LocalCluster()\n",
    "client = Client(cluster)\n",
    "client"
   ]
  },
  {
   "cell_type": "code",
   "execution_count": null,
   "metadata": {},
   "outputs": [],
   "source": [
    "# direction = intake.cat.mo_aws_earth.mogreps_g.wind_from_direction_at_pressure.read()\n",
    "# speed = intake.cat.mo_aws_earth.mogreps_g.wind_speed_at_pressure.read()\n",
    "direction = iris.load_cube('wind_direction.nc')\n",
    "speed = iris.load_cube('wind_speed.nc')"
   ]
  },
  {
   "cell_type": "code",
   "execution_count": null,
   "metadata": {},
   "outputs": [],
   "source": [
    "from opscentretools import sheartools\n",
    "shear = sheartools.calculate_shear(speed, direction)\n",
    "shear"
   ]
  },
  {
   "cell_type": "code",
   "execution_count": null,
   "metadata": {},
   "outputs": [],
   "source": [
    "# from jade_utils.iris_tools import estimate_cube_size\n",
    "# datasize = estimate_cube_size(shear)\n",
    "# datasize"
   ]
  },
  {
   "cell_type": "markdown",
   "metadata": {},
   "source": [
    "### Exploratory plot of windshear\n",
    "\n",
    "We need to investigate the windshear field to get a feel for it"
   ]
  },
  {
   "cell_type": "markdown",
   "metadata": {},
   "source": [
    "First we'll create a plottable object from the data field."
   ]
  },
  {
   "cell_type": "code",
   "execution_count": null,
   "metadata": {},
   "outputs": [],
   "source": [
    "width = 1000\n",
    "height = 600\n",
    "this_cube = shear[0]\n",
    "shear_gv = gv.Dataset(this_cube, [coord.name() for coord in this_cube.dim_coords])\n",
    "shear_plot = regrid(shear_gv.to(gv.Image, ['longitude', 'latitude'], dynamic=True), width=width, height=height)\n",
    "shear_plot = shear_plot.opts(colorbar=True, width=width, height=height, cmap='Viridis', projection=ccrs.PlateCarree())"
   ]
  },
  {
   "cell_type": "markdown",
   "metadata": {},
   "source": [
    "Next we get the weather warning tool"
   ]
  },
  {
   "cell_type": "code",
   "execution_count": null,
   "metadata": {},
   "outputs": [],
   "source": [
    "from opscentretools import annotable\n",
    "orange_warning_pen, orange_warning = annotable.warning(\"orange\")"
   ]
  },
  {
   "cell_type": "markdown",
   "metadata": {},
   "source": [
    "and some coastlines"
   ]
  },
  {
   "cell_type": "code",
   "execution_count": null,
   "metadata": {},
   "outputs": [],
   "source": [
    "coastlines = gv.feature.coastline"
   ]
  },
  {
   "cell_type": "markdown",
   "metadata": {},
   "source": [
    "And plot them all together"
   ]
  },
  {
   "cell_type": "code",
   "execution_count": null,
   "metadata": {},
   "outputs": [],
   "source": [
    "shear_interactive = shear_plot * coastlines * orange_warning\n",
    "shear_interactive"
   ]
  },
  {
   "cell_type": "markdown",
   "metadata": {},
   "source": [
    "### Consult with the chief\n",
    "I'd like to highlight areas in my advice, but I'd like to check with the cheif to see if they're on the same page."
   ]
  },
  {
   "cell_type": "code",
   "execution_count": null,
   "metadata": {},
   "outputs": [],
   "source": [
    "annotable.make(shear_interactive, websocket_origin='pangeo-dev.informaticslab.co.uk')"
   ]
  },
  {
   "cell_type": "code",
   "execution_count": null,
   "metadata": {},
   "outputs": [],
   "source": [
    "orange_warning_pen.element.data"
   ]
  },
  {
   "cell_type": "markdown",
   "metadata": {},
   "source": [
    "### Check the average wind shear profile"
   ]
  },
  {
   "cell_type": "code",
   "execution_count": null,
   "metadata": {},
   "outputs": [],
   "source": [
    "max_wind_shear = shear.collapsed([\"forecast_period\", \"forecast_reference_time\", \"realization\", \"latitude\", \"longitude\"], iris.analysis.MAX)\n",
    "max_wind_shear"
   ]
  },
  {
   "cell_type": "markdown",
   "metadata": {},
   "source": [
    "### Calculate proportion of MOGREPS-G run that exceeds 15 m/s and 25 m/s shear limits for aviation"
   ]
  },
  {
   "cell_type": "code",
   "execution_count": null,
   "metadata": {},
   "outputs": [],
   "source": [
    "from opscentretools import sheartools\n",
    "prob_shear_15 = sheartools.calculate_ensemble_exceedence(shear, threshold=15)\n",
    "prob_shear_25 = sheartools.calculate_ensemble_exceedence(shear, threshold=25)"
   ]
  },
  {
   "cell_type": "code",
   "execution_count": null,
   "metadata": {},
   "outputs": [],
   "source": [
    "def interactive_image(cube):\n",
    "    dataset = gv.Dataset(cube, [coord.name() for coord in cube.dim_coords])\n",
    "    image = regrid(dataset.to(gv.Image, ['longitude', 'latitude'], dynamic=True))\n",
    "    coastlines = gv.feature.coastline\n",
    "    return image.opts(colorbar=True, cmap='magma', projection=ccrs.PlateCarree(), responsive=True, min_height=600, aspect=2, tools=['hover'])"
   ]
  },
  {
   "cell_type": "code",
   "execution_count": null,
   "metadata": {},
   "outputs": [],
   "source": [
    "def interactive_image(cube, cmap='viridis', coastlines=True, coastline_color='grey', projection=ccrs.PlateCarree, tools=['hover'], min_height=600, **opts):\n",
    "    dataset = gv.Dataset(cube, [coord.name() for coord in cube.dim_coords])\n",
    "    image = regrid(dataset.to(gv.Image, ['longitude', 'latitude'], dynamic=True))\n",
    "    \n",
    "    options = {\n",
    "        'cmap': cmap,        \n",
    "        'responsive': True,\n",
    "        'projection': projection(),\n",
    "        'colorbar': True,\n",
    "        'min_height': min_height,\n",
    "        'aspect': 2,\n",
    "        'tools': tools\n",
    "    }\n",
    "    \n",
    "    if coastlines:\n",
    "        return image.opts(**options, **opts) * gv.feature.coastline.opts(line_color=coastline_color)\n",
    "    else:\n",
    "        return image.opts(**options, **opts)"
   ]
  },
  {
   "cell_type": "code",
   "execution_count": null,
   "metadata": {},
   "outputs": [],
   "source": [
    "from opscentretools import plotting"
   ]
  },
  {
   "cell_type": "code",
   "execution_count": null,
   "metadata": {},
   "outputs": [],
   "source": [
    "# fifteen_interactive = interactive_image(prob_shear_15, cmap='greens')\n",
    "# fifteen_interactive * gv.feature.coastline\n",
    "fifteen_interactive = plotting.interactive_plot(prob_shear_15, cmap='reds')\n",
    "fifteen_interactive"
   ]
  },
  {
   "cell_type": "code",
   "execution_count": null,
   "metadata": {},
   "outputs": [],
   "source": [
    "twentyfive_interactive = interactive_image(prob_shear_25)\n",
    "twentyfive_interactive"
   ]
  },
  {
   "cell_type": "code",
   "execution_count": null,
   "metadata": {},
   "outputs": [],
   "source": []
  }
 ],
 "metadata": {
  "kernelspec": {
   "display_name": "Python 3",
   "language": "python",
   "name": "python3"
  },
  "language_info": {
   "codemirror_mode": {
    "name": "ipython",
    "version": 3
   },
   "file_extension": ".py",
   "mimetype": "text/x-python",
   "name": "python",
   "nbconvert_exporter": "python",
   "pygments_lexer": "ipython3",
   "version": "3.7.3"
  }
 },
 "nbformat": 4,
 "nbformat_minor": 2
}
