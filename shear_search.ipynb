{
 "cells": [
  {
   "cell_type": "markdown",
   "metadata": {},
   "source": [
    "# calculate wind shear excedence map"
   ]
  },
  {
   "cell_type": "code",
   "execution_count": null,
   "metadata": {},
   "outputs": [],
   "source": [
    "import iris"
   ]
  },
  {
   "cell_type": "code",
   "execution_count": null,
   "metadata": {},
   "outputs": [],
   "source": [
    "from dask.distributed import Client, LocalCluster\n",
    "cluster = LocalCluster()\n",
    "client = Client(cluster)\n",
    "client"
   ]
  },
  {
   "cell_type": "code",
   "execution_count": null,
   "metadata": {},
   "outputs": [],
   "source": [
    "direction = iris.load_cube('wind_direction.nc')\n",
    "# direction"
   ]
  },
  {
   "cell_type": "code",
   "execution_count": null,
   "metadata": {},
   "outputs": [],
   "source": [
    "speed = iris.load_cube('wind_speed.nc')\n",
    "# speed"
   ]
  },
  {
   "cell_type": "code",
   "execution_count": null,
   "metadata": {},
   "outputs": [],
   "source": [
    "from opscentretools import sheartools\n",
    "shear = sheartools.calculate_shear(speed, direction)\n",
    "shear"
   ]
  },
  {
   "cell_type": "code",
   "execution_count": null,
   "metadata": {},
   "outputs": [],
   "source": [
    "shear_exceedance = shear.collapsed('realization', iris.analysis.PROPORTION,\n",
    "                                    function=lambda values: values > 15)"
   ]
  },
  {
   "cell_type": "code",
   "execution_count": null,
   "metadata": {},
   "outputs": [],
   "source": [
    "shear_exceedance"
   ]
  },
  {
   "cell_type": "code",
   "execution_count": null,
   "metadata": {},
   "outputs": [],
   "source": [
    "%matplotlib inline\n",
    "import iris.quickplot as qplt\n",
    "import matplotlib.pyplot as plt\n",
    "qplt.pcolormesh(shear_exceedance[2], cmap='viridis')\n",
    "plt.gca().coastlines('50m', color='red')\n",
    "plt.gca().set_extent([20, -10, 70, 30])\n",
    "plt.gcf().set_size_inches(8, 12)"
   ]
  },
  {
   "cell_type": "code",
   "execution_count": null,
   "metadata": {},
   "outputs": [],
   "source": [
    "import holoviews as hv\n",
    "import geoviews as gv\n",
    "import cartopy.crs as ccrs\n",
    "import cartopy.feature as cf\n",
    "from holoviews.operation.datashader import regrid\n",
    "import panel as pn\n",
    "pn.extension()\n",
    "hv.extension('bokeh')"
   ]
  },
  {
   "cell_type": "code",
   "execution_count": null,
   "metadata": {},
   "outputs": [],
   "source": [
    "def interactive_image(cube):\n",
    "    dataset = gv.Dataset(cube, [coord.name() for coord in cube.dim_coords])\n",
    "    image = regrid(dataset.to(gv.Image, ['longitude', 'latitude'], dynamic=True))\n",
    "    coastlines = gv.feature.coastline\n",
    "    return image.opts(colorbar=True, cmap='viridis', projection=ccrs.PlateCarree(), responsive=True, min_height=600, aspect=2)"
   ]
  },
  {
   "cell_type": "code",
   "execution_count": null,
   "metadata": {},
   "outputs": [],
   "source": [
    "interactive_image(shear_exceedance)"
   ]
  },
  {
   "cell_type": "code",
   "execution_count": null,
   "metadata": {},
   "outputs": [],
   "source": [
    "main_map = pn.panel(interactive_image(shear_exceedance) * gv.feature.coastline.opts(line_color='red'))"
   ]
  },
  {
   "cell_type": "code",
   "execution_count": null,
   "metadata": {},
   "outputs": [],
   "source": [
    "main_map.show(websocket_origin='18.130.43.15:9999', port=9999)"
   ]
  },
  {
   "cell_type": "code",
   "execution_count": null,
   "metadata": {},
   "outputs": [],
   "source": []
  }
 ],
 "metadata": {
  "kernelspec": {
   "display_name": "Python 3",
   "language": "python",
   "name": "python3"
  },
  "language_info": {
   "codemirror_mode": {
    "name": "ipython",
    "version": 3
   },
   "file_extension": ".py",
   "mimetype": "text/x-python",
   "name": "python",
   "nbconvert_exporter": "python",
   "pygments_lexer": "ipython3",
   "version": "3.7.3"
  }
 },
 "nbformat": 4,
 "nbformat_minor": 2
}
